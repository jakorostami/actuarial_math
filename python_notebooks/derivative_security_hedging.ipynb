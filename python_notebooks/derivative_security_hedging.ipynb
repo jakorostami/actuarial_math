{
 "cells": [
  {
   "cell_type": "markdown",
   "metadata": {},
   "source": [
    "\n",
    "Imagine that the price, S_t, at time t is the following\n",
    "t=0 then S_0 = 100\n",
    "t=1 is either 1.25 * S_t or 0.8 * S_t\n",
    "\n",
    "Risk-free rate of interest is 10% per time unit\n",
    "\n",
    "We have a derivative security with price D_t at time t that pays the following at t=2\n",
    "\n",
    "D_2 = <br>\n",
    "        1 if S_2 = 156.25 <br>\n",
    "        2 if S_2 = 100 <br>\n",
    "        0 if S_2 = 64 <br>\n",
    "\n",
    "\n",
    "We want to know\n",
    "\n",
    "1.) Probability of upward and downward movement <br>\n",
    "2.) Deriving the combination of the underlying security and the risk-free asset required to hedge an investment in the derivative security and what to keep and hold at t=1"
   ]
  },
  {
   "cell_type": "code",
   "execution_count": 7,
   "metadata": {},
   "outputs": [],
   "source": [
    "# Probability of downward movement under risk-neutral measure\n",
    "\n",
    "S_0 = 100\n",
    "\n",
    "p_0 = 1.1 # Risk free interest rate\n",
    "p_1 = S_0 * 1.25\n",
    "p_2 = S_0 * 0.8\n",
    "\n",
    "\n",
    "down_movement = (p_1 - p_0) / (p_1 - p_2)\n",
    "\n",
    "up_movement = 1 - down_movement\n",
    "# Or like this\n",
    "up_movement2 = (p_0 - p_2) / (p_1 - p_2)"
   ]
  },
  {
   "cell_type": "code",
   "execution_count": 11,
   "metadata": {},
   "outputs": [
    {
     "data": {
      "text/plain": [
       "1.0"
      ]
     },
     "execution_count": 11,
     "metadata": {},
     "output_type": "execute_result"
    }
   ],
   "source": [
    "# Make sure that up and downmovement probabilities sum to 1\n",
    "\n",
    "up_movement + down_movement"
   ]
  },
  {
   "cell_type": "markdown",
   "metadata": {},
   "source": [
    "We know that risk-free interest rate is 10%  <br>\n",
    "Now if at t=1 the price increases to 125, we have c_u dollars invested in zero-coupon bonds and k_units of the security are purchased <br>\n",
    "Thus we have\n",
    "\n",
    "1.1 * c_u + 156.25 * k_units = 1 <br>\n",
    "1.1 * c_u + 100 * b_units = 2 <br>\n",
    "\n",
    "Solving it analytically gives us <br>\n",
    "1.) 1.1 * c_u = 2 - 100 * k_units <br>\n",
    "2.) Put it in first equation such that we have (2 - 100 * k_units) + 156.25 * k_units = 1 <br>\n",
    "3.) Now solve for k_units <br>\n",
    "4.) -100 * k_units + 156.25 * k_units = 56.25 * k_units <br>\n",
    "5.) Now we have 2 + 56.25 * k_units = 1 <br>\n",
    "6.) And 56.25 * k_units = 1- 2 <br>\n",
    "7.) Therefore, 56.25 * k_units = -1 <br>\n",
    "8.) Following, 56.25 * k_units / 56.25 = -1/56.25 <br> \n",
    "9.) k_units = -1/56.25 <br>\n",
    "10.) Substituting k_units now gives, 1.1 * c_u = 2 - 100 * (-1/56.25) <br>\n",
    "11.) Remove the parenthesis and compute the product -> 1.1 * c_u = 2 + 100/56.25 <br>\n",
    "12.) Sum right hand part -> 1.1 * c_u = 2+100/56.25 = 34/9 <br>\n",
    "13.) Divide both sides by 1.1 -> c_u = 340 / 99 <br>\n"
   ]
  },
  {
   "cell_type": "code",
   "execution_count": 28,
   "metadata": {},
   "outputs": [],
   "source": [
    "\n",
    "# Now you have both values\n",
    "k_units = -1/56.25\n",
    "c_u = 340 / 99"
   ]
  },
  {
   "cell_type": "code",
   "execution_count": 29,
   "metadata": {},
   "outputs": [
    {
     "data": {
      "text/plain": [
       "1.2121177777777778"
      ]
     },
     "execution_count": 29,
     "metadata": {},
     "output_type": "execute_result"
    }
   ],
   "source": [
    "# We just derived our hedging strategy, the combination of the underlying secuirity and the risk-free asset required to hedge an investment\n",
    "# in the derivative security\n",
    "\n",
    "# Our replicating portfolio for t=1 is\n",
    "p_up = c_u + 125*k_units\n",
    "p_up"
   ]
  },
  {
   "cell_type": "code",
   "execution_count": 39,
   "metadata": {},
   "outputs": [
    {
     "data": {
      "text/plain": [
       "1.2121212121212124"
      ]
     },
     "execution_count": 39,
     "metadata": {},
     "output_type": "execute_result"
    }
   ],
   "source": [
    "# If the security drops to 80 dollars and we still invest c_d dollars and purchase k_units_d\n",
    "# Skipping the whole analytical part (follows same thing as previous)\n",
    "\n",
    "c_d = -320 / 99\n",
    "k_units_d = 1 / 18\n",
    "\n",
    "p_down = c_d + 80*k_units_d\n",
    "p_down"
   ]
  },
  {
   "cell_type": "code",
   "execution_count": 31,
   "metadata": {},
   "outputs": [
    {
     "data": {
      "text/plain": [
       "1.1019252525252525"
      ]
     },
     "execution_count": 31,
     "metadata": {},
     "output_type": "execute_result"
    }
   ],
   "source": [
    "# We get the same value at t=1 regardless of the movement in the security price. \n",
    "# Replicating it by investing p_up / risk-free-interest\n",
    "\n",
    "price_t_0 = p_up / p_0\n",
    "price_t_0"
   ]
  },
  {
   "cell_type": "code",
   "execution_count": 44,
   "metadata": {},
   "outputs": [
    {
     "name": "stdout",
     "output_type": "stream",
     "text": [
      "Keep $3.43 in the risk-free asset and a short holding of 0.01778 units of the security if S_1 = 125\n",
      "Be short $-3.23 in the risk-free asset and hold 0.05556 units of the security if S_1 = 80\n"
     ]
    }
   ],
   "source": [
    "# Our strategy now is to hold 1.1019 dollars of the risk free asset only at t=0\n",
    "# Meaning we are not keeping any of the security\n",
    "\n",
    "# But for t=1, we do follow this\n",
    "\n",
    "print(f'Keep ${round(c_u, 2)} in the risk-free asset and a short holding of {round(abs(k_units),5)} units of the security if S_1 = 125')\n",
    "print(f\"Be short ${round(c_d, 2)} in the risk-free asset and hold {round(k_units_d, 5)} units of the security if S_1 = 80\")"
   ]
  }
 ],
 "metadata": {
  "interpreter": {
   "hash": "567255f65376e58e053ed780084dfb6b7443412d67738284f60a73152a737072"
  },
  "kernelspec": {
   "display_name": "Python 3.8.11 ('test_env')",
   "language": "python",
   "name": "python3"
  },
  "language_info": {
   "codemirror_mode": {
    "name": "ipython",
    "version": 3
   },
   "file_extension": ".py",
   "mimetype": "text/x-python",
   "name": "python",
   "nbconvert_exporter": "python",
   "pygments_lexer": "ipython3",
   "version": "3.8.11"
  },
  "orig_nbformat": 4
 },
 "nbformat": 4,
 "nbformat_minor": 2
}
